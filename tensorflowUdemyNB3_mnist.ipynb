{
 "cells": [
  {
   "cell_type": "code",
   "execution_count": 1,
   "metadata": {},
   "outputs": [
    {
     "name": "stdout",
     "output_type": "stream",
     "text": [
      "Extracting MNIST_data/train-images-idx3-ubyte.gz\n",
      "Extracting MNIST_data/train-labels-idx1-ubyte.gz\n",
      "Extracting MNIST_data/t10k-images-idx3-ubyte.gz\n",
      "Extracting MNIST_data/t10k-labels-idx1-ubyte.gz\n"
     ]
    }
   ],
   "source": [
    "import numpy as np\n",
    "import time\n",
    "import tensorflow as tf\n",
    "from tensorflow.examples.tutorials.mnist import input_data\n",
    "\n",
    "mnist = input_data.read_data_sets(\"MNIST_data/\", one_hot=True)"
   ]
  },
  {
   "cell_type": "code",
   "execution_count": 2,
   "metadata": {
    "scrolled": false
   },
   "outputs": [
    {
     "name": "stdout",
     "output_type": "stream",
     "text": [
      "Epoch 1. Mean loss: 0.420. Validation loss: 0.162. Validation accuracy: 95.20% Epoch time: 7.58s\n",
      "Epoch 2. Mean loss: 0.131. Validation loss: 0.102. Validation accuracy: 96.94% Epoch time: 7.58s\n",
      "Epoch 3. Mean loss: 0.084. Validation loss: 0.079. Validation accuracy: 97.54% Epoch time: 7.60s\n",
      "Epoch 4. Mean loss: 0.053. Validation loss: 0.070. Validation accuracy: 98.08% Epoch time: 7.56s\n",
      "Epoch 5. Mean loss: 0.037. Validation loss: 0.069. Validation accuracy: 97.94% Epoch time: 7.59s\n",
      "Epoch 6. Mean loss: 0.024. Validation loss: 0.065. Validation accuracy: 98.06% Epoch time: 7.65s\n",
      "Epoch 7. Mean loss: 0.015. Validation loss: 0.069. Validation accuracy: 98.18% Epoch time: 8.07s\n",
      "End of training. Total training time: 53.63s\n"
     ]
    }
   ],
   "source": [
    "input_size = 784\n",
    "output_size = 10\n",
    "hidden_layer_size = 500\n",
    "\n",
    "tf.reset_default_graph() # reset memory of all variables left from previous runs (reset computaional graph),\n",
    "# multiple computational graphs can be declared as part of the training process\n",
    "\n",
    "inputs = tf.placeholder(tf.float32, [None, input_size])\n",
    "targets = tf.placeholder(tf.float32, [None, output_size])\n",
    "\n",
    "# stacking layers (4 hidden layers)\n",
    "\n",
    "weights_1 = tf.get_variable('weights_1', [input_size, hidden_layer_size]) # function used to declare variables. The default initializer is Xacier (Glorot)\n",
    "# shape of weights is k x m, so 784 x hidden layer size\n",
    "biases_1 = tf.get_variable('biases_1', [hidden_layer_size])\n",
    "outputs_1 = tf.nn.relu(tf.matmul(inputs, weights_1) + biases_1)\n",
    "\n",
    "weights_2 = tf.get_variable('weights_2', [hidden_layer_size, hidden_layer_size])\n",
    "biases_2 = tf.get_variable('biases_2', [hidden_layer_size])\n",
    "outputs_2 = tf.nn.tanh(tf.matmul(outputs_1, weights_2) + biases_2) # applying Relu activation to linear combination of inputs and weights plus biases\n",
    "# tf.nn is a module that contains neural network support, among other also commonly used activation functions\n",
    "#'''\n",
    "weights_3 = tf.get_variable('weights_3', [hidden_layer_size, hidden_layer_size])\n",
    "biases_3 = tf.get_variable('biases_3', [hidden_layer_size])\n",
    "outputs_3 = tf.nn.tanh(tf.matmul(outputs_2, weights_3) + biases_3)\n",
    "#'''\n",
    "'''\n",
    "weights_4 = tf.get_variable('weights_4', [hidden_layer_size, hidden_layer_size])\n",
    "biases_4 = tf.get_variable('biases_4', [hidden_layer_size])\n",
    "outputs_4 = tf.nn.sigmoid(tf.matmul(outputs_3, weights_4) + biases_4)\n",
    "'''\n",
    "\n",
    "# output layer\n",
    "\n",
    "'''\n",
    "weights_3 = tf.get_variable('weights_3', [hidden_layer_size, output_size])\n",
    "biases_3 = tf.get_variable('biases_3', [output_size])\n",
    "outputs = tf.matmul(outputs_2, weights_3) + biases_3 # activation function is not included, since it is common practice to incorporate final activation in the loss\n",
    "'''\n",
    "#'''\n",
    "weights_4 = tf.get_variable('weights_4', [hidden_layer_size, output_size])\n",
    "biases_4 = tf.get_variable('biases_4', [output_size])\n",
    "outputs = tf.matmul(outputs_3, weights_4) + biases_4\n",
    "#'''\n",
    "'''\n",
    "weights_5 = tf.get_variable('weights_5', [hidden_layer_size, output_size])\n",
    "biases_5 = tf.get_variable('biases_5', [output_size])\n",
    "outputs = tf.matmul(outputs_4, weights_5) + biases_5\n",
    "'''\n",
    "# tf.nn.softmax_cross_entropy_with_logits() is a function that applies a softmax activation and calculates a cross-entropy loss\n",
    "# it is a numericaly stable function. Obraining very small number jeopardizes our model if we do not employ this function\n",
    "\n",
    "loss = tf.nn.softmax_cross_entropy_with_logits(logits = outputs, labels = targets)\n",
    "mean_loss = tf.reduce_mean(loss) # tensorflow method to find mean of a tensor\n",
    "optimize = tf.train.AdamOptimizer(learning_rate = 0.001).minimize(mean_loss)\n",
    "\n",
    "out_equals_target = tf.equal(tf.argmax(outputs, 1), tf.argmax(targets, 1)) # check if 2 vectors are the same, argmax returns index of max value in vector (row - 1)\n",
    "accuracy = tf.reduce_mean(tf.cast(out_equals_target, tf.float32)) # we need to change datatype from boolean to float to get accuracy\n",
    "\n",
    "sess = tf.InteractiveSession()\n",
    "initializer = tf.global_variables_initializer()\n",
    "sess.run(initializer)\n",
    "\n",
    "# batch size = 1 - SGD, batch size = nr. of samples - GD\n",
    "\n",
    "batch_size = 1000\n",
    "batches_number = mnist.train._num_examples//batch_size\n",
    "\n",
    "max_epochs = 50\n",
    "prev_validation_loss = 9999999. # this value is large enough to ensure the early stopping wont be triggered on the first epoch\n",
    "\n",
    "start_time = time.time()\n",
    "\n",
    "for epoch_counter in range(max_epochs):\n",
    "    \n",
    "    start_time_epoch = time.time()\n",
    "    curr_epoch_loss = 0.\n",
    "        \n",
    "    # learning part loop\n",
    "    \n",
    "    for batch_counter in range(batches_number):\n",
    "        \n",
    "        # get inputs and targets of batch\n",
    "        input_batch, target_batch = mnist.train.next_batch(batch_size) # function that comes with the MNIST data provide, which loads the batches one after the other\n",
    "        \n",
    "        _, batch_loss = sess.run([optimize, mean_loss], \n",
    "            feed_dict={inputs: input_batch, targets: target_batch})\n",
    "        \n",
    "        curr_epoch_loss += batch_loss\n",
    "    \n",
    "    \n",
    "    \n",
    "    curr_epoch_loss /= batches_number\n",
    "    \n",
    "    input_batch, target_batch = mnist.validation.next_batch(mnist.validation._num_examples)\n",
    "    \n",
    "    validation_loss, validation_accuracy = sess.run([mean_loss, accuracy], \n",
    "        feed_dict={inputs: input_batch, targets: target_batch})\n",
    "    \n",
    "    epoch_time = time.time() - start_time_epoch\n",
    "    \n",
    "    print('Epoch '+str(epoch_counter+1)+\n",
    "          '. Mean loss: '+'{0:.3f}'.format(curr_epoch_loss)+\n",
    "          '. Validation loss: '+'{0:.3f}'.format(validation_loss)+\n",
    "          '. Validation accuracy: '+'{0:.2f}'.format(validation_accuracy * 100.)+'%'+\n",
    "         ' Epoch time: ' + '{0:.2f}'.format(epoch_time) +'s')\n",
    "    \n",
    "    if validation_loss > prev_validation_loss:\n",
    "        break\n",
    "        \n",
    "    prev_validation_loss = validation_loss\n",
    "\n",
    "total_training_time = time.time() - start_time\n",
    "\n",
    "print('End of training. Total training time: ' + '{0:.2f}'.format(total_training_time) + 's')"
   ]
  },
  {
   "cell_type": "code",
   "execution_count": 3,
   "metadata": {},
   "outputs": [
    {
     "name": "stdout",
     "output_type": "stream",
     "text": [
      "Test accuracy: 97.96%\n"
     ]
    }
   ],
   "source": [
    "input_batch, target_batch = mnist.test.next_batch(mnist.test._num_examples)\n",
    "test_accuracy = sess.run([accuracy], \n",
    "    feed_dict={inputs: input_batch, targets: target_batch})\n",
    "\n",
    "# Test accuracy is a list with 1 value, so we want to extract the value from it, using x[0]\n",
    "# Uncomment the print to see how it looks before the manipulation\n",
    "# print (test_accuracy)\n",
    "test_accuracy_percent = test_accuracy[0] * 100.\n",
    "\n",
    "# Print the test accuracy formatted in percentages\n",
    "print('Test accuracy: '+'{0:.2f}'.format(test_accuracy_percent)+'%')"
   ]
  },
  {
   "cell_type": "code",
   "execution_count": null,
   "metadata": {},
   "outputs": [],
   "source": []
  }
 ],
 "metadata": {
  "kernelspec": {
   "display_name": "Python 3",
   "language": "python",
   "name": "python3"
  },
  "language_info": {
   "codemirror_mode": {
    "name": "ipython",
    "version": 3
   },
   "file_extension": ".py",
   "mimetype": "text/x-python",
   "name": "python",
   "nbconvert_exporter": "python",
   "pygments_lexer": "ipython3",
   "version": "3.5.4"
  }
 },
 "nbformat": 4,
 "nbformat_minor": 2
}
